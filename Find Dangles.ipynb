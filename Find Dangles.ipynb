{
 "cells": [
  {
   "cell_type": "code",
   "execution_count": 1,
   "metadata": {},
   "outputs": [],
   "source": [
    "%load_ext chime\n",
    "import os, sys\n",
    "from datetime import datetime\n",
    "import geopandas as gpd\n",
    "import pandas as pd\n",
    "from shapely.geometry import Point\n",
    "from shapely.ops import unary_union"
   ]
  },
  {
   "cell_type": "code",
   "execution_count": 87,
   "metadata": {},
   "outputs": [],
   "source": [
    "adwr = gpd.read_file(\"./AGIC_NHD_WG.gdb\", layer=\"ADWR_NHDPilotArea\").to_crs(\"epsg:3857\").explode()\n",
    "adeq = gpd.read_file(\"./AGIC_NHD_WG.gdb\", layer=\"ADEQ_NHDPilotArea\").explode().reset_index(drop=True)\n",
    "pcwash = gpd.read_file(\"./AGIC_NHD_WG.gdb\", layer=\"PC_NHDPilotArea\").explode().reset_index(drop=True)\n",
    "nhd = gpd.read_file(\"./AGIC_NHD_WG.gdb\", layer=\"NHD_NHDPilotArea\").explode().reset_index(drop=True)\n",
    "\n",
    "#pc has some bad geometrys that can be fixed with self-intersection\n",
    "pcwash = gpd.overlay(pcwash, pcwash, how=\"intersection\")"
   ]
  },
  {
   "cell_type": "code",
   "execution_count": 88,
   "metadata": {},
   "outputs": [],
   "source": [
    "def getEndPointVerticies(geom):\n",
    "    coords = geom.coords\n",
    "    begPoint = Point(coords[0])\n",
    "    endPoint = Point(coords[-1])\n",
    "    return pd.Series([begPoint, endPoint])"
   ]
  },
  {
   "cell_type": "code",
   "execution_count": 89,
   "metadata": {},
   "outputs": [],
   "source": [
    "dfs = {\"NHD\": nhd, \"ADEQ\": adeq, \"ADWR\": adwr, \"PC\": pcwash}\n",
    "\n",
    "for name, df in dfs.items():\n",
    "    obpep_file = f\"{name}_BPEP.gpkg\"\n",
    "    if os.path.exists(obpep_file):\n",
    "        continue\n",
    "    print(f\"{name}\")\n",
    "    df[[\"BegPoint\", \"EndPoint\"]] = df.geometry.apply(lambda g: getEndPointVerticies(g))\n",
    "\n",
    "    bp = df[[\"geometry\", \"BegPoint\"]].copy()\n",
    "    bp[\"geometry\"] = bp[\"BegPoint\"]\n",
    "    ep = df[[\"geometry\", \"EndPoint\"]].copy()\n",
    "    ep[\"geometry\"] = ep[\"EndPoint\"]\n",
    "    bpep = pd.concat([bp,ep]).reset_index()\n",
    "    #bpep[\"EndPoint\"], bpep[\"BegPoint\"]\n",
    "    del df[\"EndPoint\"], df[\"BegPoint\"]\n",
    "    bpep.geometry = bpep.geometry.apply(lambda g: g.buffer(0.5))\n",
    "\n",
    "    def getDupPoints(df):\n",
    "        df[\"X\"] = round(df.geometry.centroid.x)\n",
    "        df[\"Y\"] = round(df.geometry.centroid.y)\n",
    "        dfg = df.groupby([\"X\",\"Y\"]).agg({\"X\":\"count\",\"Y\":\"count\",\"geometry\":\"first\"}).reset_index(drop=True)\n",
    "        dfg[\"count\"] = dfg.apply(lambda r: 1 if r[\"X\"] and r[\"Y\"] == 1 else r[\"X\"], axis=1)\n",
    "        del dfg[\"X\"], dfg[\"Y\"]\n",
    "        return gpd.GeoDataFrame(dfg,crs=df.crs)\n",
    "\n",
    "    bpep_g = getDupPoints(bpep)\n",
    "\n",
    "    bpep_once = bpep_g[bpep_g[\"count\"] == 1].reset_index(drop=True)\n",
    "    bpep_multi = bpep_g[bpep_g[\"count\"] > 1].reset_index(drop=True)\n",
    "    df = gpd.sjoin(df, bpep_once, how=\"left\")\n",
    "\n",
    "    del df[\"index_right\"]\n",
    "    df.rename(columns=({\"count\":\"Dangle\"}), inplace=True)\n",
    "    df[\"Dangle\"] = df[\"Dangle\"].apply(lambda d: 1 if not pd.isnull(d) else 0)\n",
    "\n",
    "    df.to_file(f\"{name}_Dangles.gpkg\", driver=\"GPKG\")\n",
    "    \n",
    "    bpep_multi.geometery = bpep_multi.geometry.centroid\n",
    "    \n",
    "    bpep_multi.to_file(obpep_file, driver = \"GPKG\")\n",
    "\n",
    "    %chime"
   ]
  }
 ],
 "metadata": {
  "kernelspec": {
   "display_name": "Python 3",
   "language": "python",
   "name": "python3"
  },
  "language_info": {
   "codemirror_mode": {
    "name": "ipython",
    "version": 3
   },
   "file_extension": ".py",
   "mimetype": "text/x-python",
   "name": "python",
   "nbconvert_exporter": "python",
   "pygments_lexer": "ipython3",
   "version": "3.8.2"
  }
 },
 "nbformat": 4,
 "nbformat_minor": 4
}
